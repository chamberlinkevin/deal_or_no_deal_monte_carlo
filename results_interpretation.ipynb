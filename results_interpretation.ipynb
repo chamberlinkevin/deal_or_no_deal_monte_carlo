{
 "cells": [
  {
   "cell_type": "markdown",
   "metadata": {},
   "source": [
    "# Deal or No Deal\n",
    "**Results interpretation and visualization**"
   ]
  },
  {
   "cell_type": "code",
   "execution_count": 7,
   "metadata": {},
   "outputs": [],
   "source": [
    "import pyspark.sql.functions as F\n",
    "from pyspark.sql import SparkSession\n",
    "\n",
    "spark = SparkSession \\\n",
    "    .builder \\\n",
    "    .appName(\"Python Spark SQL basic example\") \\\n",
    "    .config(\"spark.some.config.option\", \"some-value\") \\\n",
    "    .getOrCreate()\n"
   ]
  },
  {
   "cell_type": "code",
   "execution_count": 8,
   "metadata": {},
   "outputs": [],
   "source": [
    "# Read results as Spark DataFrames \n",
    "\n",
    "sdf_trial_highest_results = spark.read.parquet(\"trial_highest_results.parquet\")\n",
    "sdf_trial_results = spark.read.parquet(\"trial_results.parquet\")"
   ]
  },
  {
   "cell_type": "code",
   "execution_count": 9,
   "metadata": {},
   "outputs": [
    {
     "name": "stdout",
     "output_type": "stream",
     "text": [
      "+---------------------------+-------------+------------+------------------+------------+\n",
      "|most_frequent_highest_round|highest_offer|lowest_offer|     average_offer|median_offer|\n",
      "+---------------------------+-------------+------------+------------------+------------+\n",
      "|                          5|    1000000.0|        0.01|227577.70843222225|  230958.155|\n",
      "+---------------------------+-------------+------------+------------------+------------+\n",
      "\n"
     ]
    }
   ],
   "source": [
    "# Aggregate highest results for descriptive statistics \n",
    "\n",
    "sdf_trial_highest_results_agg = (sdf_trial_highest_results\n",
    "                                    .filter(F.col('highest_round') != 0)\n",
    "                                    .agg(F.mode('highest_round').alias('most_frequent_highest_round'),\n",
    "                                        F.max('offer').alias('highest_offer'),\n",
    "                                        F.min('offer').alias('lowest_offer'),\n",
    "                                        F.mean('offer').alias('average_offer'),\n",
    "                                        F.median('offer').alias('median_offer')\n",
    "                                        )\n",
    "                                    )\n",
    "sdf_trial_highest_results_agg.show()"
   ]
  }
 ],
 "metadata": {
  "kernelspec": {
   "display_name": "Python 3",
   "language": "python",
   "name": "python3"
  },
  "language_info": {
   "codemirror_mode": {
    "name": "ipython",
    "version": 3
   },
   "file_extension": ".py",
   "mimetype": "text/x-python",
   "name": "python",
   "nbconvert_exporter": "python",
   "pygments_lexer": "ipython3",
   "version": "3.10.13"
  }
 },
 "nbformat": 4,
 "nbformat_minor": 2
}
